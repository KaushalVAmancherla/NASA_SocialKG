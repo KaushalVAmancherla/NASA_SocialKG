{
 "cells": [
  {
   "cell_type": "code",
   "execution_count": 1,
   "id": "be25273e-73bc-469b-90fb-592cec03cb64",
   "metadata": {},
   "outputs": [
    {
     "data": {
      "text/plain": [
       "'\\nScript to get the metadata for each institution that each JPL author has a direct connection to (via affiliation)\\n'"
      ]
     },
     "execution_count": 1,
     "metadata": {},
     "output_type": "execute_result"
    }
   ],
   "source": [
    "'''\n",
    "Script to get the metadata for each institution that each JPL author has a direct connection to (via affiliation)\n",
    "'''"
   ]
  },
  {
   "cell_type": "code",
   "execution_count": 2,
   "id": "d938a207-8c6a-4281-a3bf-0d55905cb77e",
   "metadata": {},
   "outputs": [],
   "source": [
    "import csv\n",
    "import requests\n",
    "\n",
    "from helper_funcs import *\n",
    "from constants import *"
   ]
  },
  {
   "cell_type": "code",
   "execution_count": 3,
   "id": "16e9310d-d687-4f6e-8e19-bfa6d2c222cf",
   "metadata": {},
   "outputs": [],
   "source": [
    "individual_ids = parse_csv_of_individuals(JPL_individual_fp)"
   ]
  },
  {
   "cell_type": "code",
   "execution_count": 4,
   "id": "e6d14aac-32ff-4f7e-9715-4eba33e0ba53",
   "metadata": {},
   "outputs": [],
   "source": [
    "#### QUERY OPEN ALEX TO GET THE NECESSARY DATA ####"
   ]
  },
  {
   "cell_type": "code",
   "execution_count": 5,
   "id": "96098c9f-2ee5-495d-a13f-cd2045f4e902",
   "metadata": {},
   "outputs": [],
   "source": [
    "# Function to retrieve detailed information about an author\n",
    "def get_institution_info(institution_id):\n",
    "    url = f\"{base_url}/institutions/{institution_id}\"\n",
    "    response = requests.get(url)\n",
    "    if response.status_code == 200:\n",
    "        return response.json()\n",
    "    else:\n",
    "        print(\"Error:\", response.status_code)\n",
    "        return None"
   ]
  },
  {
   "cell_type": "code",
   "execution_count": 6,
   "id": "246ef81d-6b49-4b3b-84bb-9d62ea6372cf",
   "metadata": {},
   "outputs": [],
   "source": [
    "raw_openalex_data = read_json_from_local(person_raw_openalex_data_fp)"
   ]
  },
  {
   "cell_type": "code",
   "execution_count": 7,
   "id": "1cc03bfe-756a-4116-9e50-48519d10a388",
   "metadata": {
    "scrolled": true
   },
   "outputs": [],
   "source": [
    "inst_to_res = {}\n",
    "\n",
    "def process_institution(affiliation_metadata,for_last):    \n",
    "    if for_last:\n",
    "        i_id = affiliation_metadata['id'].rsplit(\"/\", 1)[-1]\n",
    "    else:\n",
    "        i_id = affiliation_metadata['institution']['id'].rsplit(\"/\", 1)[-1]\n",
    "    \n",
    "    if i_id not in inst_to_res:\n",
    "        metadata = get_institution_info(i_id)\n",
    "\n",
    "        inst_type = ORG\n",
    "        \n",
    "        for associated in metadata['associated_institutions']:\n",
    "            if associated['relationship'] == \"parent\": #defaults to group\n",
    "                inst_type = GROUP\n",
    "                break\n",
    "                \n",
    "        inst_to_res[i_id] = {\n",
    "                \"inst_type\":inst_type,\n",
    "                \"metadata\":metadata\n",
    "            }\n",
    "\n",
    "for person, metadata_obj in raw_openalex_data.items():\n",
    "    for affiliation in metadata_obj['affiliations']:\n",
    "        process_institution(affiliation,False)\n",
    "            \n",
    "    for last_known_affiliation in metadata_obj['last_known_institutions']:\n",
    "        process_institution(last_known_affiliation,True)"
   ]
  },
  {
   "cell_type": "code",
   "execution_count": 8,
   "id": "6078ea2b-a61a-47f2-a328-710aca21a10c",
   "metadata": {},
   "outputs": [],
   "source": [
    "write_json_to_local(inst_to_res,inst_raw_openalex_data_fp)"
   ]
  },
  {
   "cell_type": "code",
   "execution_count": null,
   "id": "a8bbf3fd-a99d-40a5-90a5-9605666b2166",
   "metadata": {},
   "outputs": [],
   "source": []
  }
 ],
 "metadata": {
  "kernelspec": {
   "display_name": "Python 3 (ipykernel)",
   "language": "python",
   "name": "python3"
  },
  "language_info": {
   "codemirror_mode": {
    "name": "ipython",
    "version": 3
   },
   "file_extension": ".py",
   "mimetype": "text/x-python",
   "name": "python",
   "nbconvert_exporter": "python",
   "pygments_lexer": "ipython3",
   "version": "3.11.9"
  }
 },
 "nbformat": 4,
 "nbformat_minor": 5
}
