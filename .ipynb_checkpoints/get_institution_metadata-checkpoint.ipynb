{
 "cells": [
  {
   "cell_type": "code",
   "execution_count": 1,
   "id": "be25273e-73bc-469b-90fb-592cec03cb64",
   "metadata": {},
   "outputs": [
    {
     "data": {
      "text/plain": [
       "'\\nScript to get the metadata for each institution that each JPL author has a direct connection to (via affiliation)\\n'"
      ]
     },
     "execution_count": 1,
     "metadata": {},
     "output_type": "execute_result"
    }
   ],
   "source": [
    "'''\n",
    "Script to get the metadata for each institution that each JPL author has a direct connection to (via affiliation)\n",
    "'''"
   ]
  },
  {
   "cell_type": "code",
   "execution_count": 2,
   "id": "d938a207-8c6a-4281-a3bf-0d55905cb77e",
   "metadata": {},
   "outputs": [],
   "source": [
    "import json\n",
    "import requests\n",
    "\n",
    "from helper_funcs import *"
   ]
  },
  {
   "cell_type": "code",
   "execution_count": 3,
   "id": "16e9310d-d687-4f6e-8e19-bfa6d2c222cf",
   "metadata": {},
   "outputs": [],
   "source": [
    "INSTITUTIONS_URL = \"https://api.openalex.org/institutions\"\n",
    "PAGE_SIZE = 200  # maximum per OpenAlex API\n",
    "\n",
    "# Define ORG and GROUP types (adjust as per your ontology)\n",
    "ORG = \"Organization\"\n",
    "GROUP = \"Group\""
   ]
  },
  {
   "cell_type": "code",
   "execution_count": 4,
   "id": "1865541d-ea1e-4773-b1fa-eb80b9eacde2",
   "metadata": {},
   "outputs": [],
   "source": [
    "inst_to_res = {}"
   ]
  },
  {
   "cell_type": "code",
   "execution_count": 5,
   "id": "96098c9f-2ee5-495d-a13f-cd2045f4e902",
   "metadata": {},
   "outputs": [],
   "source": [
    "def process_institution_entry(inst_record):\n",
    "    \"\"\"\n",
    "    Process a single institution record from the /institutions endpoint.\n",
    "    Determine its type (ORG or GROUP) based on 'associated_institutions' relationships,\n",
    "    and store metadata for later use.\n",
    "    \"\"\"\n",
    "    # 1) Extract the stripped institution ID from the full URL\n",
    "    full_id = inst_record.get('id', '')                # e.g. \"https://openalex.org/I12345\"\n",
    "    i_id = full_id.rsplit(\"/\", 1)[-1]                  # e.g. \"I12345\"\n",
    "    \n",
    "    # 2) If we haven't processed this institution yet, do so\n",
    "    if i_id not in inst_to_res:\n",
    "        metadata = inst_record  # use the full record from the endpoint\n",
    "                \n",
    "        # 4) Store into our result dictionary\n",
    "        inst_to_res[i_id] = {\n",
    "            \"metadata\": metadata\n",
    "        }"
   ]
  },
  {
   "cell_type": "code",
   "execution_count": 6,
   "id": "246ef81d-6b49-4b3b-84bb-9d62ea6372cf",
   "metadata": {},
   "outputs": [],
   "source": [
    "cursor = \"*\"\n",
    "while cursor is not None:\n",
    "    params = {\n",
    "        \"per_page\": PAGE_SIZE,\n",
    "        \"cursor\":   cursor\n",
    "    }\n",
    "    response = requests.get(INSTITUTIONS_URL, params=params)\n",
    "    response.raise_for_status()\n",
    "    data = response.json()\n",
    "    \n",
    "    # Process each institution record on this page\n",
    "    for inst_record in data.get(\"results\", []):\n",
    "        process_institution_entry(inst_record)\n",
    "    \n",
    "    # Advance to the next cursor (will be None when no more pages)\n",
    "    cursor = data.get(\"meta\", {}).get(\"next_cursor\")"
   ]
  },
  {
   "cell_type": "code",
   "execution_count": 7,
   "id": "6078ea2b-a61a-47f2-a328-710aca21a10c",
   "metadata": {},
   "outputs": [
    {
     "ename": "NameError",
     "evalue": "name 'write_json_to_local' is not defined",
     "output_type": "error",
     "traceback": [
      "\u001b[31m---------------------------------------------------------------------------\u001b[39m",
      "\u001b[31mNameError\u001b[39m                                 Traceback (most recent call last)",
      "\u001b[36mCell\u001b[39m\u001b[36m \u001b[39m\u001b[32mIn[7]\u001b[39m\u001b[32m, line 1\u001b[39m\n\u001b[32m----> \u001b[39m\u001b[32m1\u001b[39m \u001b[43mwrite_json_to_local\u001b[49m(inst_to_res,inst_raw_openalex_data_fp)\n",
      "\u001b[31mNameError\u001b[39m: name 'write_json_to_local' is not defined"
     ]
    }
   ],
   "source": [
    "write_json_to_local(inst_to_res,inst_raw_openalex_data_fp)"
   ]
  },
  {
   "cell_type": "code",
   "execution_count": null,
   "id": "a8bbf3fd-a99d-40a5-90a5-9605666b2166",
   "metadata": {},
   "outputs": [],
   "source": []
  }
 ],
 "metadata": {
  "kernelspec": {
   "display_name": "Python 3 (ipykernel)",
   "language": "python",
   "name": "python3"
  },
  "language_info": {
   "codemirror_mode": {
    "name": "ipython",
    "version": 3
   },
   "file_extension": ".py",
   "mimetype": "text/x-python",
   "name": "python",
   "nbconvert_exporter": "python",
   "pygments_lexer": "ipython3",
   "version": "3.11.9"
  }
 },
 "nbformat": 4,
 "nbformat_minor": 5
}
