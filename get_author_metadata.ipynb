{
 "cells": [
  {
   "cell_type": "code",
   "execution_count": null,
   "id": "f25eab87-19fb-45b1-97e3-4827b12054bd",
   "metadata": {},
   "outputs": [],
   "source": [
    "'''\n",
    "Script to get the metadata for each author\n",
    "'''"
   ]
  },
  {
   "cell_type": "code",
   "execution_count": 1,
   "id": "ff7ee463-5229-42d5-ac1a-294b13ba978c",
   "metadata": {},
   "outputs": [],
   "source": [
    "import csv\n",
    "import requests\n",
    "\n",
    "from helper_funcs import *\n",
    "from constants import *"
   ]
  },
  {
   "cell_type": "code",
   "execution_count": 2,
   "id": "c3533d7f-0c08-439e-a705-1d2f97cf1561",
   "metadata": {},
   "outputs": [],
   "source": [
    "individual_ids = parse_csv_of_individuals(JPL_individual_fp)"
   ]
  },
  {
   "cell_type": "code",
   "execution_count": 3,
   "id": "5d8d0fce-85b4-4855-a14b-4aca167557bc",
   "metadata": {},
   "outputs": [
    {
     "data": {
      "text/plain": [
       "{'Charles Lawrence': 'A5110817122',\n",
       " 'Paul Von Allmen': 'A5042442992',\n",
       " 'Daniel Wenkert': 'A5039786214',\n",
       " 'Mary Park': 'A5064318723',\n",
       " 'Jeff Booth': 'A5045456173',\n",
       " 'Keith Grogan': 'A5055816437',\n",
       " 'Neil Murphy': 'A5087261603',\n",
       " 'Neal Turner': 'A5035897480',\n",
       " 'Alexander Ruzmaikin': 'A5113921083',\n",
       " 'Paulette Liewer': 'A5005240098',\n",
       " 'Jamie Jasinski': 'A5079573709',\n",
       " 'Jack Lightholder': 'A5021891433',\n",
       " 'Jeffrey Hall': 'A5034927537',\n",
       " 'Paulo Penteado': 'A5020685599',\n",
       " 'Panagiotis Vergados': 'A5025952050',\n",
       " 'Olga Verkhoglyadova': 'A5047816335',\n",
       " 'Attila Komjathy': 'A5076361258',\n",
       " 'Anthony Mannucci': 'A5087062396',\n",
       " 'Ryan McGranaghan': 'A5065824713',\n",
       " 'Stephen Durden': 'A5073295191',\n",
       " 'Jordan Isler': 'A5013466137'}"
      ]
     },
     "execution_count": 3,
     "metadata": {},
     "output_type": "execute_result"
    }
   ],
   "source": [
    "individual_ids"
   ]
  },
  {
   "cell_type": "code",
   "execution_count": 4,
   "id": "d29263a4-b122-4841-9afb-e10602aeffa6",
   "metadata": {},
   "outputs": [],
   "source": [
    "#### QUERY OPEN ALEX TO GET THE NECESSARY DATA ####"
   ]
  },
  {
   "cell_type": "code",
   "execution_count": 5,
   "id": "fae3f82a-4896-4bd2-8261-27a14764a223",
   "metadata": {},
   "outputs": [],
   "source": [
    "# Function to retrieve detailed information about an author\n",
    "def get_author_info(author_id):\n",
    "    url = f\"{base_url}/people/{author_id}\"\n",
    "    response = requests.get(url)\n",
    "    if response.status_code == 200:\n",
    "        return response.json()\n",
    "    else:\n",
    "        print(\"Error:\", response.status_code)\n",
    "        return None"
   ]
  },
  {
   "cell_type": "code",
   "execution_count": 6,
   "id": "186e7bb2-8026-4b19-bf60-7cf5344e7467",
   "metadata": {
    "scrolled": true
   },
   "outputs": [],
   "source": [
    "author_to_response = {}\n",
    "\n",
    "for individual,i_id in individual_ids.items():\n",
    "    res = get_author_info(i_id)\n",
    "    if res:\n",
    "        author_to_response[individual] = res"
   ]
  },
  {
   "cell_type": "code",
   "execution_count": 7,
   "id": "acaa21d4-3f71-4148-a196-9c80628b6e31",
   "metadata": {},
   "outputs": [],
   "source": [
    "write_json_to_local(author_to_response,person_raw_openalex_data_fp)"
   ]
  },
  {
   "cell_type": "code",
   "execution_count": 8,
   "id": "7015b51a-75ab-437c-a931-b401ea772c22",
   "metadata": {},
   "outputs": [],
   "source": [
    "raw_openalex_data = read_json_from_local(person_raw_openalex_data_fp)"
   ]
  }
 ],
 "metadata": {
  "kernelspec": {
   "display_name": "Python 3 (ipykernel)",
   "language": "python",
   "name": "python3"
  },
  "language_info": {
   "codemirror_mode": {
    "name": "ipython",
    "version": 3
   },
   "file_extension": ".py",
   "mimetype": "text/x-python",
   "name": "python",
   "nbconvert_exporter": "python",
   "pygments_lexer": "ipython3",
   "version": "3.11.9"
  }
 },
 "nbformat": 4,
 "nbformat_minor": 5
}
