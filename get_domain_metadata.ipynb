{
 "cells": [
  {
   "cell_type": "code",
   "execution_count": 1,
   "id": "a0ee859c-f287-4a77-b521-3c7a2c3e465b",
   "metadata": {},
   "outputs": [
    {
     "data": {
      "text/plain": [
       "'\\nScript to get the domain metadata for all OpenAlex topics\\n'"
      ]
     },
     "execution_count": 1,
     "metadata": {},
     "output_type": "execute_result"
    }
   ],
   "source": [
    "'''\n",
    "Script to get the domain metadata for all OpenAlex topics\n",
    "'''"
   ]
  },
  {
   "cell_type": "code",
   "execution_count": 2,
   "id": "155ce774-7fa1-4bfe-834e-c6861b96e9da",
   "metadata": {},
   "outputs": [],
   "source": [
    "import csv\n",
    "import requests\n",
    "\n",
    "from helper_funcs import *\n",
    "from constants import *\n",
    "\n",
    "import argparse\n",
    "import gzip\n",
    "import json\n",
    "import sys\n",
    "import time\n",
    "from pathlib import Path\n",
    "from typing import Any, Dict, List, Tuple\n",
    "\n",
    "from __future__ import annotations"
   ]
  },
  {
   "cell_type": "code",
   "execution_count": 3,
   "id": "1b1e00aa-9824-4b45-93bd-9adf59c4e686",
   "metadata": {},
   "outputs": [],
   "source": [
    "ENDPOINT       = \"https://api.openalex.org/domains\"\n",
    "MAX_PER_PAGE   = 200          # OpenAlex hard limit\n",
    "SLEEP_BETWEEN  = 0.20         # seconds – be polite\n",
    "PROGRESS_EVERY = 1_000        # console update cadence"
   ]
  },
  {
   "cell_type": "code",
   "execution_count": 4,
   "id": "1ab89f0c-3147-44b0-81c1-b2f951291916",
   "metadata": {},
   "outputs": [],
   "source": [
    "def short_id(uri: str) -> str:\n",
    "    \"\"\"Return the fragment after the final '/' in any URI.\"\"\"\n",
    "    return uri.rstrip(\"/\").rsplit(\"/\", 1)[-1]"
   ]
  },
  {
   "cell_type": "code",
   "execution_count": 7,
   "id": "38487dd0-7175-4b31-8045-9feb1aa4d897",
   "metadata": {},
   "outputs": [],
   "source": [
    "def extract_domain(raw: Dict[str, Any]) -> Dict[str, Any]:\n",
    "    \"\"\"Flatten one raw DOMAIN object with the short ID.\"\"\"\n",
    "    return {\n",
    "        \"display_name\": raw.get(\"display_name\", \"\"),\n",
    "        \"description\":  raw.get(\"description\", \"\"),   # sometimes empty\n",
    "        \"openalex_id\":  raw[\"id\"],                    # full URL kept\n",
    "        # No parent above domain, so nothing more to add\n",
    "        \"siblings\": [\n",
    "            short_id(sib[\"id\"])                       # minted IDs\n",
    "            for sib in raw.get(\"siblings\", [])\n",
    "        ]\n",
    "    }"
   ]
  },
  {
   "cell_type": "code",
   "execution_count": 8,
   "id": "25f30e9e-65d2-40b4-b227-320569aa6773",
   "metadata": {},
   "outputs": [],
   "source": [
    "def main() -> None:\n",
    "    domains: Dict[str, Any] = {}\n",
    "    page, fetched = 1, 0\n",
    "\n",
    "    print(\"\\n⏳  Downloading OpenAlex domains …\\n\")\n",
    "\n",
    "    while True:\n",
    "        resp = requests.get(\n",
    "            ENDPOINT,\n",
    "            params={\"page\": page, \"per_page\": MAX_PER_PAGE},\n",
    "            timeout=30,\n",
    "        )\n",
    "        resp.raise_for_status()\n",
    "        results: List[Dict[str, Any]] = resp.json().get(\"results\", [])\n",
    "\n",
    "        if not results:          # no more pages\n",
    "            break\n",
    "\n",
    "        for raw in results:\n",
    "            key           = short_id(raw[\"id\"])   # minted key\n",
    "            domains[key]  = extract_domain(raw)\n",
    "            fetched      += 1\n",
    "\n",
    "            if fetched % PROGRESS_EVERY == 0:\n",
    "                print(f\"  … {fetched:,} domains so far\")\n",
    "\n",
    "        page += 1\n",
    "        time.sleep(SLEEP_BETWEEN)\n",
    "\n",
    "    print(f\"\\n✅  Finished: {fetched:,} domains collected\")\n",
    "\n",
    "    out_path = Path(\"openalex_domains.json\")\n",
    "    with out_path.open(\"w\", encoding=\"utf-8\") as fh:\n",
    "        json.dump(domains, fh, indent=2, ensure_ascii=False)\n",
    "\n",
    "    print(f\"✔  wrote → {out_path.resolve()}\")\n",
    "    print(\"🎉  All done!\")"
   ]
  },
  {
   "cell_type": "code",
   "execution_count": 9,
   "id": "988457ad-36d2-4e02-88ff-383040cce9c7",
   "metadata": {},
   "outputs": [
    {
     "name": "stdout",
     "output_type": "stream",
     "text": [
      "\n",
      "⏳  Downloading OpenAlex domains …\n",
      "\n",
      "\n",
      "✅  Finished: 4 domains collected\n",
      "✔  wrote → /Users/kaushalamancherla/helio-aws/SocialKG/openalex_domains.json\n",
      "🎉  All done!\n"
     ]
    }
   ],
   "source": [
    "main()"
   ]
  },
  {
   "cell_type": "code",
   "execution_count": null,
   "id": "de2ac22b-f5cb-4f55-b2cf-d75b546271ce",
   "metadata": {},
   "outputs": [],
   "source": []
  }
 ],
 "metadata": {
  "kernelspec": {
   "display_name": "Python 3 (ipykernel)",
   "language": "python",
   "name": "python3"
  },
  "language_info": {
   "codemirror_mode": {
    "name": "ipython",
    "version": 3
   },
   "file_extension": ".py",
   "mimetype": "text/x-python",
   "name": "python",
   "nbconvert_exporter": "python",
   "pygments_lexer": "ipython3",
   "version": "3.11.9"
  }
 },
 "nbformat": 4,
 "nbformat_minor": 5
}
