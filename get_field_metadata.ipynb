{
 "cells": [
  {
   "cell_type": "code",
   "execution_count": 1,
   "id": "a2034cff-330f-4c1a-bf00-4b77d2bcacc2",
   "metadata": {},
   "outputs": [
    {
     "data": {
      "text/plain": [
       "'\\nScript to get the field metadata for all OpenAlex topics\\n'"
      ]
     },
     "execution_count": 1,
     "metadata": {},
     "output_type": "execute_result"
    }
   ],
   "source": [
    "'''\n",
    "Script to get the field metadata for all OpenAlex topics\n",
    "'''"
   ]
  },
  {
   "cell_type": "code",
   "execution_count": 2,
   "id": "6ee4dff4-406e-4b1c-a0c2-6c716aad79c1",
   "metadata": {},
   "outputs": [],
   "source": [
    "import csv\n",
    "import requests\n",
    "\n",
    "from helper_funcs import *\n",
    "from constants import *\n",
    "\n",
    "import argparse\n",
    "import gzip\n",
    "import json\n",
    "import sys\n",
    "import time\n",
    "from pathlib import Path\n",
    "from typing import Any, Dict, List, Tuple\n",
    "\n",
    "from __future__ import annotations"
   ]
  },
  {
   "cell_type": "code",
   "execution_count": 3,
   "id": "cf023ef5-2031-4a7f-870a-79939c784d5f",
   "metadata": {},
   "outputs": [],
   "source": [
    "ENDPOINT       = \"https://api.openalex.org/fields\"\n",
    "MAX_PER_PAGE   = 200          # OpenAlex hard limit\n",
    "SLEEP_BETWEEN  = 0.20         # seconds – be polite\n",
    "PROGRESS_EVERY = 1_000        # console update cadence"
   ]
  },
  {
   "cell_type": "code",
   "execution_count": 4,
   "id": "585ddbc8-6a51-416c-9299-9ad2576758f6",
   "metadata": {},
   "outputs": [],
   "source": [
    "def short_id(uri: str) -> str:\n",
    "    \"\"\"Return the fragment after the final '/' in any URI.\"\"\"\n",
    "    return uri.rstrip(\"/\").rsplit(\"/\", 1)[-1]"
   ]
  },
  {
   "cell_type": "code",
   "execution_count": 8,
   "id": "f6d8659c-4df4-4ee1-94fa-433fb66e53fc",
   "metadata": {},
   "outputs": [],
   "source": [
    "def extract_field(raw: Dict[str, Any]) -> Dict[str, Any]:\n",
    "    \"\"\"Flatten one raw FIELD object with minted IDs.\"\"\"\n",
    "    return {\n",
    "        \"display_name\": raw.get(\"display_name\", \"\"),\n",
    "        \"description\":  raw.get(\"description\", \"\"),      # may be empty\n",
    "        \"openalex_id\":  raw[\"id\"],                       # full URL kept\n",
    "        \"siblings\": [\n",
    "            short_id(sib[\"id\"])                       # minted IDs\n",
    "            for sib in raw.get(\"siblings\", [])\n",
    "        ],\n",
    "        \"domain\": {\n",
    "            \"id\":           short_id(raw[\"domain\"][\"id\"]),\n",
    "            \"display_name\": raw[\"domain\"][\"display_name\"],\n",
    "        } if raw.get(\"domain\") else None,\n",
    "    }"
   ]
  },
  {
   "cell_type": "code",
   "execution_count": 9,
   "id": "8792b65f-94fa-4950-92cc-fa22e4620967",
   "metadata": {},
   "outputs": [],
   "source": [
    "def main() -> None:\n",
    "    fields: Dict[str, Any] = {}\n",
    "    page, fetched = 1, 0\n",
    "\n",
    "    print(\"\\n⏳  Downloading OpenAlex fields …\\n\")\n",
    "\n",
    "    while True:\n",
    "        resp = requests.get(\n",
    "            ENDPOINT,\n",
    "            params={\"page\": page, \"per_page\": MAX_PER_PAGE},\n",
    "            timeout=30,\n",
    "        )\n",
    "        resp.raise_for_status()\n",
    "        results: List[Dict[str, Any]] = resp.json().get(\"results\", [])\n",
    "\n",
    "        if not results:     # no more pages\n",
    "            break\n",
    "\n",
    "        for raw in results:\n",
    "            key          = short_id(raw[\"id\"])   # minted key\n",
    "            fields[key]  = extract_field(raw)\n",
    "            fetched     += 1\n",
    "\n",
    "            if fetched % PROGRESS_EVERY == 0:\n",
    "                print(f\"  … {fetched:,} fields so far\")\n",
    "\n",
    "        page += 1\n",
    "        time.sleep(SLEEP_BETWEEN)\n",
    "\n",
    "    print(f\"\\n✅  Finished: {fetched:,} fields collected\")\n",
    "\n",
    "    out_path = Path(\"openalex_fields.json\")\n",
    "    with out_path.open(\"w\", encoding=\"utf-8\") as fh:\n",
    "        json.dump(fields, fh, indent=2, ensure_ascii=False)\n",
    "\n",
    "    print(f\"✔  wrote → {out_path.resolve()}\")\n",
    "    print(\"🎉  All done!\")"
   ]
  },
  {
   "cell_type": "code",
   "execution_count": 10,
   "id": "06ea9b90-f4e3-418c-932b-7578bf9b20fc",
   "metadata": {},
   "outputs": [
    {
     "name": "stdout",
     "output_type": "stream",
     "text": [
      "\n",
      "⏳  Downloading OpenAlex fields …\n",
      "\n",
      "\n",
      "✅  Finished: 26 fields collected\n",
      "✔  wrote → /Users/kaushalamancherla/helio-aws/SocialKG/openalex_fields.json\n",
      "🎉  All done!\n"
     ]
    }
   ],
   "source": [
    "if __name__ == \"__main__\":\n",
    "    main()"
   ]
  },
  {
   "cell_type": "code",
   "execution_count": null,
   "id": "e63f48fa-9939-4fd2-ae13-fbd14f7ebb14",
   "metadata": {},
   "outputs": [],
   "source": []
  }
 ],
 "metadata": {
  "kernelspec": {
   "display_name": "Python 3 (ipykernel)",
   "language": "python",
   "name": "python3"
  },
  "language_info": {
   "codemirror_mode": {
    "name": "ipython",
    "version": 3
   },
   "file_extension": ".py",
   "mimetype": "text/x-python",
   "name": "python",
   "nbconvert_exporter": "python",
   "pygments_lexer": "ipython3",
   "version": "3.11.9"
  }
 },
 "nbformat": 4,
 "nbformat_minor": 5
}
