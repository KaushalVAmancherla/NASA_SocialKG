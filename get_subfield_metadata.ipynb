{
 "cells": [
  {
   "cell_type": "code",
   "execution_count": 1,
   "id": "8d989037-b9ff-4106-8534-7ce22a5f1745",
   "metadata": {},
   "outputs": [
    {
     "data": {
      "text/plain": [
       "'\\nScript to get the subfield metadata for all OpenAlex topics\\n'"
      ]
     },
     "execution_count": 1,
     "metadata": {},
     "output_type": "execute_result"
    }
   ],
   "source": [
    "'''\n",
    "Script to get the subfield metadata for all OpenAlex topics\n",
    "'''"
   ]
  },
  {
   "cell_type": "code",
   "execution_count": 2,
   "id": "0b8f1498-6eef-459a-a131-314e9b16f313",
   "metadata": {},
   "outputs": [],
   "source": [
    "import csv\n",
    "import requests\n",
    "\n",
    "from helper_funcs import *\n",
    "from constants import *\n",
    "\n",
    "import argparse\n",
    "import gzip\n",
    "import json\n",
    "import sys\n",
    "import time\n",
    "from pathlib import Path\n",
    "from typing import Any, Dict, List, Tuple\n",
    "\n",
    "from __future__ import annotations"
   ]
  },
  {
   "cell_type": "code",
   "execution_count": 3,
   "id": "b4d4f6a4-d8bc-4ed4-a94a-16a4fb596825",
   "metadata": {},
   "outputs": [],
   "source": [
    "ENDPOINT        = \"https://api.openalex.org/subfields\"\n",
    "MAX_PER_PAGE    = 200          # OpenAlex maximum\n",
    "SLEEP_BETWEEN   = 0.20         # seconds – stay polite\n",
    "PROGRESS_EVERY  = 1_000        # console update cadence"
   ]
  },
  {
   "cell_type": "code",
   "execution_count": 9,
   "id": "b7d761b6-d7a0-4b22-9c17-a2c8b6061c1c",
   "metadata": {},
   "outputs": [],
   "source": [
    "def short_id(uri: str) -> str:\n",
    "    \"\"\"Return fragment after the final '/' in any URI.\"\"\"\n",
    "    return uri.rstrip(\"/\").rsplit(\"/\", 1)[-1]"
   ]
  },
  {
   "cell_type": "code",
   "execution_count": 18,
   "id": "98c8c3f9-7847-4c12-b26c-5d2b22267c4e",
   "metadata": {},
   "outputs": [],
   "source": [
    "def extract_subfield(raw: Dict[str, Any]) -> Dict[str, Any]:\n",
    "    \"\"\"Flatten one raw subfield object with minted IDs.\"\"\"\n",
    "    return {\n",
    "        \"display_name\": raw.get(\"display_name\", \"\"),\n",
    "        \"description\":  raw.get(\"description\", \"\"),        # not always present\n",
    "        \"openalex_id\":  raw[\"id\"],                         # full URL\n",
    "        \"siblings\": [\n",
    "            short_id(sib[\"id\"])                       # minted IDs\n",
    "            for sib in raw.get(\"siblings\", [])\n",
    "        ],\n",
    "        \"field\": {\n",
    "            \"id\":           short_id(raw[\"field\"][\"id\"]),\n",
    "            \"display_name\": raw[\"field\"][\"display_name\"],\n",
    "        } if raw.get(\"field\") else None,\n",
    "    }"
   ]
  },
  {
   "cell_type": "code",
   "execution_count": 19,
   "id": "cd92be38-6220-4486-b269-5b71cac39dc0",
   "metadata": {},
   "outputs": [],
   "source": [
    "def main() -> None:\n",
    "    subfields: Dict[str, Any] = {}\n",
    "    page, fetched = 1, 0\n",
    "\n",
    "    print(\"\\n⏳  Downloading OpenAlex subfields …\\n\")\n",
    "\n",
    "    while True:\n",
    "        resp = requests.get(\n",
    "            ENDPOINT,\n",
    "            params={\"page\": page, \"per_page\": MAX_PER_PAGE},\n",
    "            timeout=30,\n",
    "        )\n",
    "        resp.raise_for_status()\n",
    "        results: List[Dict[str, Any]] = resp.json().get(\"results\", [])\n",
    "\n",
    "        if not results:      # no more pages\n",
    "            break\n",
    "\n",
    "        for raw in results:\n",
    "            key             = short_id(raw[\"id\"])   # minted key\n",
    "            subfields[key]  = extract_subfield(raw)\n",
    "            fetched        += 1\n",
    "\n",
    "            if fetched % PROGRESS_EVERY == 0:\n",
    "                print(f\"  … {fetched:,} subfields so far\")\n",
    "\n",
    "        page += 1\n",
    "        time.sleep(SLEEP_BETWEEN)\n",
    "\n",
    "    print(f\"\\n✅  Finished: {fetched:,} subfields collected\")\n",
    "\n",
    "    out_path = Path(\"openalex_subfields.json\")\n",
    "    with out_path.open(\"w\", encoding=\"utf-8\") as fh:\n",
    "        json.dump(subfields, fh, indent=2, ensure_ascii=False)\n",
    "\n",
    "    print(f\"✔  wrote → {out_path.resolve()}\")\n",
    "    print(\"🎉  All done!\")\n"
   ]
  },
  {
   "cell_type": "code",
   "execution_count": 20,
   "id": "b97a0b54-4ce8-4ec6-b0cf-cbb910683a5d",
   "metadata": {},
   "outputs": [
    {
     "name": "stdout",
     "output_type": "stream",
     "text": [
      "\n",
      "⏳  Downloading OpenAlex subfields …\n",
      "\n",
      "\n",
      "✅  Finished: 252 subfields collected\n",
      "✔  wrote → /Users/kaushalamancherla/helio-aws/SocialKG/openalex_subfields.json\n",
      "🎉  All done!\n"
     ]
    }
   ],
   "source": [
    "main()"
   ]
  },
  {
   "cell_type": "code",
   "execution_count": null,
   "id": "bc20494c-a9bc-4f4e-a79b-153ea8e5a33b",
   "metadata": {},
   "outputs": [],
   "source": []
  }
 ],
 "metadata": {
  "kernelspec": {
   "display_name": "Python 3 (ipykernel)",
   "language": "python",
   "name": "python3"
  },
  "language_info": {
   "codemirror_mode": {
    "name": "ipython",
    "version": 3
   },
   "file_extension": ".py",
   "mimetype": "text/x-python",
   "name": "python",
   "nbconvert_exporter": "python",
   "pygments_lexer": "ipython3",
   "version": "3.11.9"
  }
 },
 "nbformat": 4,
 "nbformat_minor": 5
}
