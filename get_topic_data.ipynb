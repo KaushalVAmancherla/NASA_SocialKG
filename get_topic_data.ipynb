{
 "cells": [
  {
   "cell_type": "code",
   "execution_count": 1,
   "id": "74515b1e-434a-4bb8-8aeb-20e050999b5d",
   "metadata": {},
   "outputs": [
    {
     "data": {
      "text/plain": [
       "'\\nScript to get the topic metadata for all OpenAlex topics\\n'"
      ]
     },
     "execution_count": 1,
     "metadata": {},
     "output_type": "execute_result"
    }
   ],
   "source": [
    "'''\n",
    "Script to get the topic metadata for all OpenAlex topics\n",
    "'''"
   ]
  },
  {
   "cell_type": "code",
   "execution_count": 18,
   "id": "512bbe23-9bc2-4c65-8e28-98c3b43b44f9",
   "metadata": {},
   "outputs": [],
   "source": [
    "import csv\n",
    "import requests\n",
    "\n",
    "from helper_funcs import *\n",
    "from constants import *\n",
    "\n",
    "import argparse\n",
    "import gzip\n",
    "import json\n",
    "import sys\n",
    "import time\n",
    "from pathlib import Path\n",
    "from typing import Any, Dict, List, Tuple\n",
    "\n",
    "from __future__ import annotations"
   ]
  },
  {
   "cell_type": "code",
   "execution_count": 19,
   "id": "cd694953-6b74-4639-a73c-5bae29fa48e6",
   "metadata": {},
   "outputs": [],
   "source": [
    "ENDPOINT        = \"https://api.openalex.org/topics\"\n",
    "MAX_PER_PAGE    = 200          # OpenAlex maximum\n",
    "SLEEP_BETWEEN   = 0.20         # seconds – stay polite\n",
    "PROGRESS_EVERY  = 1_000        # console update cadence"
   ]
  },
  {
   "cell_type": "code",
   "execution_count": 20,
   "id": "f4ee7e7a-b5ac-40dc-ad55-6253d524835e",
   "metadata": {},
   "outputs": [],
   "source": [
    "def short_id(uri: str) -> str:\n",
    "    \"\"\"Return the string after the final '/' in any URI.\"\"\"\n",
    "    return uri.rstrip(\"/\").rsplit(\"/\", 1)[-1]"
   ]
  },
  {
   "cell_type": "code",
   "execution_count": 21,
   "id": "75d86c9e-0cf1-4851-ae3e-03f679656e8f",
   "metadata": {},
   "outputs": [],
   "source": [
    "def extract_topic(raw: Dict[str, Any]) -> Dict[str, Any]:\n",
    "    \"\"\"Flatten an OpenAlex topic object with minted IDs.\"\"\"\n",
    "    return {\n",
    "        \"display_name\": raw.get(\"display_name\", \"\"),\n",
    "        \"description\":  raw.get(\"description\", \"\"),\n",
    "        \"keywords\":     raw.get(\"keywords\", []),\n",
    "        \"openalex_id\":  raw[\"id\"],                    # full URL kept here\n",
    "\n",
    "        \"siblings\": [\n",
    "            short_id(sib[\"id\"])                       # minted IDs\n",
    "            for sib in raw.get(\"siblings\", [])\n",
    "        ],\n",
    "\n",
    "        \"subfield\": {\n",
    "            \"id\":           short_id(raw[\"subfield\"][\"id\"]),\n",
    "            \"display_name\": raw[\"subfield\"][\"display_name\"],\n",
    "        } if raw.get(\"subfield\") else None,\n",
    "    }"
   ]
  },
  {
   "cell_type": "code",
   "execution_count": 22,
   "id": "9bff452d-2ad0-408a-9aa5-487bc0005992",
   "metadata": {},
   "outputs": [],
   "source": [
    "def main() -> None:\n",
    "    topics: Dict[str, Any] = {}\n",
    "    page, fetched = 1, 0\n",
    "\n",
    "    print(\"\\n⏳  Downloading OpenAlex topics …\\n\")\n",
    "\n",
    "    while True:\n",
    "        resp = requests.get(\n",
    "            ENDPOINT,\n",
    "            params={\"page\": page, \"per_page\": MAX_PER_PAGE},\n",
    "            timeout=30,\n",
    "        )\n",
    "        resp.raise_for_status()\n",
    "        results: List[Dict[str, Any]] = resp.json().get(\"results\", [])\n",
    "\n",
    "        if not results:                    # no more pages, done\n",
    "            break\n",
    "\n",
    "        for raw in results:\n",
    "            key          = short_id(raw[\"id\"])       # minted key\n",
    "            topics[key]  = extract_topic(raw)\n",
    "            fetched     += 1\n",
    "            if fetched % PROGRESS_EVERY == 0:\n",
    "                print(f\"  … {fetched:,} topics so far\")\n",
    "\n",
    "        page += 1\n",
    "        time.sleep(SLEEP_BETWEEN)\n",
    "\n",
    "    print(f\"\\n✅  Finished: {fetched:,} topics collected\")\n",
    "\n",
    "    out_path = Path(\"openalex_topics.json\")\n",
    "    with out_path.open(\"w\", encoding=\"utf-8\") as fh:\n",
    "        json.dump(topics, fh, indent=2, ensure_ascii=False)\n",
    "\n",
    "    print(f\"✔  wrote → {out_path.resolve()}\")\n",
    "    print(\"🎉  All done!\")"
   ]
  },
  {
   "cell_type": "code",
   "execution_count": 23,
   "id": "427a643a-6160-4633-84b2-cc8ba5c06b8e",
   "metadata": {},
   "outputs": [
    {
     "name": "stdout",
     "output_type": "stream",
     "text": [
      "\n",
      "⏳  Downloading OpenAlex topics …\n",
      "\n",
      "  … 1,000 topics so far\n",
      "  … 2,000 topics so far\n",
      "  … 3,000 topics so far\n",
      "  … 4,000 topics so far\n",
      "\n",
      "✅  Finished: 4,516 topics collected\n",
      "✔  wrote → /Users/kaushalamancherla/helio-aws/SocialKG/openalex_topics.json\n",
      "🎉  All done!\n"
     ]
    }
   ],
   "source": [
    "main()"
   ]
  },
  {
   "cell_type": "code",
   "execution_count": null,
   "id": "ea3f5c5c-e019-4e6a-bfeb-24b11580b28f",
   "metadata": {},
   "outputs": [],
   "source": []
  }
 ],
 "metadata": {
  "kernelspec": {
   "display_name": "Python 3 (ipykernel)",
   "language": "python",
   "name": "python3"
  },
  "language_info": {
   "codemirror_mode": {
    "name": "ipython",
    "version": 3
   },
   "file_extension": ".py",
   "mimetype": "text/x-python",
   "name": "python",
   "nbconvert_exporter": "python",
   "pygments_lexer": "ipython3",
   "version": "3.11.9"
  }
 },
 "nbformat": 4,
 "nbformat_minor": 5
}
